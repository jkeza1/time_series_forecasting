{
  "cells": [
    {
      "cell_type": "markdown",
      "metadata": {
        "id": "view-in-github",
        "colab_type": "text"
      },
      "source": [
        "<a href=\"https://colab.research.google.com/github/jkeza1/time_series_forecasting/blob/main/air_quality_forecasting_starter_code.ipynb\" target=\"_parent\"><img src=\"https://colab.research.google.com/assets/colab-badge.svg\" alt=\"Open In Colab\"/></a>"
      ]
    },
    {
      "cell_type": "markdown",
      "metadata": {
        "id": "iTsEYdtov6tp"
      },
      "source": [
        "# Beijing Air Quality Forecasting Starter Notebook"
      ]
    },
    {
      "cell_type": "code",
      "execution_count": 1,
      "metadata": {
        "id": "nWkSHhqXrCqF"
      },
      "outputs": [],
      "source": [
        "import pandas as pd\n",
        "import numpy as np\n",
        "import matplotlib.pyplot as plt\n",
        "import seaborn as sns\n",
        "from sklearn.preprocessing import StandardScaler, MinMaxScaler\n",
        "from sklearn.metrics import mean_squared_error, mean_absolute_error\n",
        "from tensorflow.keras.models import Sequential\n",
        "from tensorflow.keras.layers import LSTM, Dense, Dropout, BatchNormalization, Bidirectional\n",
        "from tensorflow.keras.optimizers import Adam, AdamW\n",
        "from tensorflow.keras.callbacks import EarlyStopping, ReduceLROnPlateau, ModelCheckpoint\n",
        "from tensorflow.keras.regularizers import l1_l2\n",
        "from sklearn.preprocessing import RobustScaler, QuantileTransformer\n",
        "from tensorflow.keras.losses import Huber\n",
        "import tensorflow as tf\n",
        "import warnings\n",
        "warnings.filterwarnings('ignore')"
      ]
    },
    {
      "cell_type": "code",
      "execution_count": 2,
      "metadata": {
        "id": "y_C4HV99rHd5"
      },
      "outputs": [],
      "source": [
        "np.random.seed(42)\n",
        "tf.random.set_seed(42)"
      ]
    },
    {
      "cell_type": "code",
      "source": [
        "train = pd.read_csv('/content/train.csv')\n",
        "test = pd.read_csv('/content/test.csv')"
      ],
      "metadata": {
        "id": "2qD3jmGFOTxa"
      },
      "execution_count": 3,
      "outputs": []
    },
    {
      "cell_type": "markdown",
      "metadata": {
        "id": "cRse3uqRrft5"
      },
      "source": [
        "# Explore the training data\n",
        "\n",
        "In this sections explore your dataset with appropiate statistics and visualisations to understand your better. Ensure that you explain output of every code cell and what it entails."
      ]
    },
    {
      "cell_type": "code",
      "source": [
        "print(\" Training Data Overview:\")\n",
        "train.head()\n",
        "\n",
        "train.columns"
      ],
      "metadata": {
        "colab": {
          "base_uri": "https://localhost:8080/"
        },
        "id": "tLZfSLul40yR",
        "outputId": "f0abb3d6-7054-4733-beb8-38b2c76a680e"
      },
      "execution_count": 4,
      "outputs": [
        {
          "output_type": "stream",
          "name": "stdout",
          "text": [
            " Training Data Overview:\n"
          ]
        },
        {
          "output_type": "execute_result",
          "data": {
            "text/plain": [
              "Index(['No', 'DEWP', 'TEMP', 'PRES', 'Iws', 'Is', 'Ir', 'datetime', 'cbwd_NW',\n",
              "       'cbwd_SE', 'cbwd_cv', 'pm2.5'],\n",
              "      dtype='object')"
            ]
          },
          "metadata": {},
          "execution_count": 4
        }
      ]
    },
    {
      "cell_type": "code",
      "source": [
        "train['datetime'] = pd.to_datetime(train['datetime'])\n",
        "\n",
        "test['datetime'] = pd.to_datetime(test['datetime'])"
      ],
      "metadata": {
        "id": "0jWtHWxc4tt8"
      },
      "execution_count": 5,
      "outputs": []
    },
    {
      "cell_type": "code",
      "source": [
        "train.set_index('datetime', inplace=True)\n",
        "# val.set_index('datetime', inplace=True)\n",
        "test.set_index('datetime', inplace=True)"
      ],
      "metadata": {
        "id": "x5m7LHOX4eLq"
      },
      "execution_count": 6,
      "outputs": []
    },
    {
      "cell_type": "markdown",
      "metadata": {
        "id": "ABAqt0Jztd5s"
      },
      "source": [
        "# Handle missing values\n",
        "\n",
        "\n",
        "- Check the dataset for missing values and decide how to handle them.\n",
        "- In this example, missing values are filled with the mean. You can experiment with other strategies."
      ]
    },
    {
      "cell_type": "code",
      "execution_count": 7,
      "metadata": {
        "id": "u2n29Ge1tami"
      },
      "outputs": [],
      "source": [
        "train.fillna(train.mean(), inplace=True)\n",
        "test.fillna(test.mean(), inplace=True)"
      ]
    },
    {
      "cell_type": "markdown",
      "metadata": {
        "id": "YKndkdRuty1C"
      },
      "source": [
        "# Separate features and target\n",
        "\n",
        "- Feel free to trop any non-essential columns like that you think might not contribute to modeling."
      ]
    },
    {
      "cell_type": "code",
      "execution_count": 8,
      "metadata": {
        "id": "QETLRAo_tvQH"
      },
      "outputs": [],
      "source": [
        "X_train = train.drop(['pm2.5', 'No'], axis=1)\n",
        "y_train = train['pm2.5']"
      ]
    },
    {
      "cell_type": "code",
      "execution_count": 9,
      "metadata": {
        "id": "NyP2mDjruG9R"
      },
      "outputs": [],
      "source": [
        "# Reshape data for LSTM input\n",
        "# LSTM models require data in the shape (samples, timesteps, features).\n",
        "# Here, the data is reshaped to add a \"timesteps\" dimension.\n",
        "X_train = np.expand_dims(X_train, axis=1)"
      ]
    },
    {
      "cell_type": "markdown",
      "metadata": {
        "id": "d488782wuR2W"
      },
      "source": [
        "# Build model\n",
        "\n",
        "Below is a simple LSTM model. Your task is to experiment with different parameters like, numbers of layers, units, activation functions, and optimizers, etc to get the best performing model. Experiment with other optimizers (e.g., SGD) or hyperparameters to improve performance."
      ]
    },
    {
      "cell_type": "code",
      "source": [
        "import pandas as pd\n",
        "import numpy as np\n",
        "import matplotlib.pyplot as plt\n",
        "import seaborn as sns\n",
        "from datetime import datetime\n",
        "import os\n",
        "from sklearn.preprocessing import StandardScaler\n",
        "from sklearn.metrics import mean_squared_error, mean_absolute_error\n",
        "\n",
        "def create_advanced_features(df, target_col='pm2.5'):\n",
        "    \"\"\"Create lag features, rolling statistics, and temporal features\"\"\"\n",
        "    df_enhanced = df.copy()\n",
        "\n",
        "    # Temporal features\n",
        "    df_enhanced['hour'] = df_enhanced.index.hour\n",
        "    df_enhanced['day_of_week'] = df_enhanced.index.dayofweek\n",
        "    df_enhanced['month'] = df_enhanced.index.month\n",
        "    df_enhanced['season'] = (df_enhanced.index.month % 12 + 3) // 3\n",
        "    df_enhanced['is_weekend'] = df_enhanced['day_of_week'].isin([5, 6]).astype(int)\n",
        "\n",
        "    # Cyclical encoding for temporal features\n",
        "    df_enhanced['hour_sin'] = np.sin(2 * np.pi * df_enhanced['hour'] / 24)\n",
        "    df_enhanced['hour_cos'] = np.cos(2 * np.pi * df_enhanced['hour'] / 24)\n",
        "    df_enhanced['day_sin'] = np.sin(2 * np.pi * df_enhanced['day_of_week'] / 7)\n",
        "    df_enhanced['day_cos'] = np.cos(2 * np.pi * df_enhanced['day_of_week'] / 7)\n",
        "    df_enhanced['month_sin'] = np.sin(2 * np.pi * df_enhanced['month'] / 12)\n",
        "    df_enhanced['month_cos'] = np.cos(2 * np.pi * df_enhanced['month'] / 12)\n",
        "\n",
        "    if target_col in df_enhanced.columns:\n",
        "        # Lag features for PM2.5\n",
        "        for lag in [1, 2, 3, 6, 12, 24, 48]:\n",
        "            df_enhanced[f'pm2.5_lag_{lag}'] = df_enhanced[target_col].shift(lag)\n",
        "\n",
        "        # Rolling statistics for PM2.5\n",
        "        for window in [6, 12, 24, 48]:\n",
        "            df_enhanced[f'pm2.5_roll_mean_{window}'] = df_enhanced[target_col].rolling(window, min_periods=1).mean()\n",
        "            df_enhanced[f'pm2.5_roll_std_{window}'] = df_enhanced[target_col].rolling(window, min_periods=1).std()\n",
        "            df_enhanced[f'pm2.5_roll_min_{window}'] = df_enhanced[target_col].rolling(window, min_periods=1).min()\n",
        "            df_enhanced[f'pm2.5_roll_max_{window}'] = df_enhanced[target_col].rolling(window, min_periods=1).max()\n",
        "\n",
        "    # Weather interaction features\n",
        "    df_enhanced['temp_dewp_diff'] = df_enhanced['TEMP'] - df_enhanced['DEWP']\n",
        "    df_enhanced['wind_pressure'] = df_enhanced['Iws'] * df_enhanced['PRES']\n",
        "    df_enhanced['humidity_index'] = df_enhanced['DEWP'] / (df_enhanced['TEMP'] + 1e-6)\n",
        "\n",
        "    # Rolling features for weather variables\n",
        "    for col in ['DEWP', 'TEMP', 'PRES', 'Iws']:\n",
        "        for window in [6, 12, 24]:\n",
        "            df_enhanced[f'{col}_roll_mean_{window}'] = df_enhanced[col].rolling(window, min_periods=1).mean()\n",
        "            df_enhanced[f'{col}_roll_std_{window}'] = df_enhanced[col].rolling(window, min_periods=1).std()\n",
        "\n",
        "    # Wind direction features\n",
        "    wind_cols = [col for col in df_enhanced.columns if 'cbwd' in col]\n",
        "    if len(wind_cols) >= 2:\n",
        "        df_enhanced['wind_complexity'] = sum(df_enhanced[col] for col in wind_cols)\n",
        "\n",
        "    # Drop original temporal columns (keep encoded versions)\n",
        "    df_enhanced = df_enhanced.drop(['hour', 'day_of_week', 'month'], axis=1)\n",
        "\n",
        "    return df_enhanced\n",
        "\n",
        "def create_test_features(df):\n",
        "    \"\"\"Create features for test data (without PM2.5 lag features)\"\"\"\n",
        "    df_enhanced = df.copy()\n",
        "\n",
        "    # Temporal features\n",
        "    df_enhanced['hour'] = df_enhanced.index.hour\n",
        "    df_enhanced['day_of_week'] = df_enhanced.index.dayofweek\n",
        "    df_enhanced['month'] = df_enhanced.index.month\n",
        "    df_enhanced['season'] = (df_enhanced.index.month % 12 + 3) // 3\n",
        "    df_enhanced['is_weekend'] = df_enhanced['day_of_week'].isin([5, 6]).astype(int)\n",
        "\n",
        "    # Cyclical encoding for temporal features\n",
        "    df_enhanced['hour_sin'] = np.sin(2 * np.pi * df_enhanced['hour'] / 24)\n",
        "    df_enhanced['hour_cos'] = np.cos(2 * np.pi * df_enhanced['hour'] / 24)\n",
        "    df_enhanced['day_sin'] = np.sin(2 * np.pi * df_enhanced['day_of_week'] / 7)\n",
        "    df_enhanced['day_cos'] = np.cos(2 * np.pi * df_enhanced['day_of_week'] / 7)\n",
        "    df_enhanced['month_sin'] = np.sin(2 * np.pi * df_enhanced['month'] / 12)\n",
        "    df_enhanced['month_cos'] = np.cos(2 * np.pi * df_enhanced['month'] / 12)\n",
        "\n",
        "    # Weather interaction features\n",
        "    df_enhanced['temp_dewp_diff'] = df_enhanced['TEMP'] - df_enhanced['DEWP']\n",
        "    df_enhanced['wind_pressure'] = df_enhanced['Iws'] * df_enhanced['PRES']\n",
        "    df_enhanced['humidity_index'] = df_enhanced['DEWP'] / (df_enhanced['TEMP'] + 1e-6)\n",
        "\n",
        "    # Rolling features for weather variables\n",
        "    for col in ['DEWP', 'TEMP', 'PRES', 'Iws']:\n",
        "        for window in [6, 12, 24]:\n",
        "            df_enhanced[f'{col}_roll_mean_{window}'] = df_enhanced[col].rolling(window, min_periods=1).mean()\n",
        "            df_enhanced[f'{col}_roll_std_{window}'] = df_enhanced[col].rolling(window, min_periods=1).std()\n",
        "\n",
        "    # Wind direction features\n",
        "    wind_cols = [col for col in df_enhanced.columns if 'cbwd' in col]\n",
        "    if len(wind_cols) >= 2:\n",
        "        df_enhanced['wind_complexity'] = sum(df_enhanced[col] for col in wind_cols)\n",
        "\n",
        "    # Drop original temporal columns\n",
        "    df_enhanced = df_enhanced.drop(['hour', 'day_of_week', 'month'], axis=1)\n",
        "\n",
        "    return df_enhanced\n",
        "\n",
        "def save_submission(predictions, experiment_name, test_index):\n",
        "    \"\"\"Save submission with timestamp and experiment info\"\"\"\n",
        "    os.makedirs('submissions', exist_ok=True)\n",
        "\n",
        "    timestamp = datetime.now().strftime('%Y%m%d_%H%M%S')\n",
        "\n",
        "    # Manual formatting to ensure no leading zeros in hours\n",
        "    row_ids = []\n",
        "    for dt in test_index:\n",
        "        # Format: \"YYYY-MM-DD H:MM:SS\" (no leading zero for hour)\n",
        "        formatted = f\"{dt.year}-{dt.month:02d}-{dt.day:02d} {dt.hour}:{dt.minute:02d}:{dt.second:02d}\"\n",
        "        row_ids.append(formatted)\n",
        "\n",
        "    submission = pd.DataFrame({\n",
        "        'row ID': row_ids,\n",
        "        'pm2.5': predictions.round().astype(int)\n",
        "    })\n",
        "\n",
        "    filename = f'submissions/{timestamp}_{experiment_name}.csv'\n",
        "    submission.to_csv(filename, index=False)\n",
        "\n",
        "    print(f\"✅ Submission saved: {filename}\")\n",
        "    print(f\"📊 Predictions - Min: {predictions.min():.1f}, Max: {predictions.max():.1f}\")\n",
        "    print(f\"📋 Sample format: {row_ids[0]}\")\n",
        "\n",
        "    return filename, submission\n",
        "\n",
        "print(\"✅ All functions defined successfully!\")"
      ],
      "metadata": {
        "colab": {
          "base_uri": "https://localhost:8080/"
        },
        "id": "0q16N7PyBuqG",
        "outputId": "918ae362-4fed-4045-ec92-526e1402eaa6"
      },
      "execution_count": 10,
      "outputs": [
        {
          "output_type": "stream",
          "name": "stdout",
          "text": [
            "✅ All functions defined successfully!\n"
          ]
        }
      ]
    },
    {
      "cell_type": "code",
      "execution_count": 11,
      "metadata": {
        "colab": {
          "base_uri": "https://localhost:8080/"
        },
        "id": "mfx2LPHxq5fG",
        "outputId": "dfda6343-9e4b-4549-84cf-3ef6c93faccb"
      },
      "outputs": [
        {
          "output_type": "stream",
          "name": "stdout",
          "text": [
            "❌ Clean data not found. Please run data cleaning cells first.\n",
            "✅ Data cleaned\n",
            "🔧 Creating advanced features...\n",
            "📊 Enhanced datasets - Train: (30676, 70), Test: (13148, 46)\n",
            "🔧 Aligning features...\n",
            "🚫 Removing PM2.5-dependent features: ['pm2.5_lag_1', 'pm2.5_lag_2', 'pm2.5_lag_3', 'pm2.5_lag_6', 'pm2.5_lag_12', 'pm2.5_lag_24', 'pm2.5_lag_48', 'pm2.5_roll_mean_6', 'pm2.5_roll_std_6', 'pm2.5_roll_min_6', 'pm2.5_roll_max_6', 'pm2.5_roll_mean_12', 'pm2.5_roll_std_12', 'pm2.5_roll_min_12', 'pm2.5_roll_max_12', 'pm2.5_roll_mean_24', 'pm2.5_roll_std_24', 'pm2.5_roll_min_24', 'pm2.5_roll_max_24', 'pm2.5_roll_mean_48', 'pm2.5_roll_std_48', 'pm2.5_roll_min_48', 'pm2.5_roll_max_48']\n",
            "✅ Using 45 common features\n",
            "📊 Aligned training features: (30676, 45)\n",
            "📊 Aligned test features: (13148, 45)\n",
            "🔧 Scaling features...\n",
            "✅ Feature scaling completed!\n",
            "📊 X_train_scaled shape: (30676, 45)\n",
            "📊 X_test_scaled shape: (13148, 45)\n"
          ]
        }
      ],
      "source": [
        "# Check if we have clean data\n",
        "if 'train_clean' not in locals() or 'test_clean' not in locals():\n",
        "    print(\"❌ Clean data not found. Please run data cleaning cells first.\")\n",
        "    # If you need to clean data, run this:\n",
        "    train_clean = train.copy()\n",
        "    train_clean = train_clean.fillna(method='ffill').fillna(method='bfill').fillna(0)\n",
        "    test_clean = test.copy()\n",
        "    test_clean = test_clean.fillna(method='ffill').fillna(method='bfill').fillna(0)\n",
        "    print(\"✅ Data cleaned\")\n",
        "\n",
        "# 1. Feature Engineering\n",
        "print(\"🔧 Creating advanced features...\")\n",
        "train_enhanced = create_advanced_features(train_clean, target_col='pm2.5')\n",
        "test_enhanced = create_test_features(test_clean)\n",
        "\n",
        "print(f\"📊 Enhanced datasets - Train: {train_enhanced.shape}, Test: {test_enhanced.shape}\")\n",
        "\n",
        "# 2. Feature Alignment (Remove PM2.5-dependent features)\n",
        "print(\"🔧 Aligning features...\")\n",
        "pm25_dependent_features = [col for col in train_enhanced.columns if 'pm2.5_' in col]\n",
        "print(f\"🚫 Removing PM2.5-dependent features: {pm25_dependent_features}\")\n",
        "\n",
        "common_features = [col for col in train_enhanced.columns\n",
        "                  if col in test_enhanced.columns and col not in ['pm2.5', 'No']]\n",
        "\n",
        "X_train_aligned = train_enhanced[common_features]\n",
        "y_train = train_enhanced['pm2.5']\n",
        "X_test_aligned = test_enhanced[common_features]\n",
        "\n",
        "print(f\"✅ Using {len(common_features)} common features\")\n",
        "print(f\"📊 Aligned training features: {X_train_aligned.shape}\")\n",
        "print(f\"📊 Aligned test features: {X_test_aligned.shape}\")\n",
        "\n",
        "# 3. Scale Features\n",
        "print(\"🔧 Scaling features...\")\n",
        "scaler = StandardScaler()\n",
        "X_train_scaled = scaler.fit_transform(X_train_aligned)\n",
        "X_test_scaled = scaler.transform(X_test_aligned)\n",
        "\n",
        "print(\"✅ Feature scaling completed!\")\n",
        "print(f\"📊 X_train_scaled shape: {X_train_scaled.shape}\")\n",
        "print(f\"📊 X_test_scaled shape: {X_test_scaled.shape}\")"
      ]
    },
    {
      "cell_type": "code",
      "source": [
        "print(\"🔍 Checking available variables...\")\n",
        "available_vars = [var for var in ['X_train_scaled', 'X_train_aligned', 'y_train', 'SEQUENCE_LENGTH'] if var in locals()]\n",
        "print(f\"Available variables: {available_vars}\")\n",
        "\n",
        "# Check if we have the basic components\n",
        "if 'X_train_scaled' in locals():\n",
        "    print(f\"X_train_scaled shape: {X_train_scaled.shape}\")\n",
        "if 'y_train' in locals():\n",
        "    print(f\"y_train shape: {y_train.shape}\")\n",
        "if 'SEQUENCE_LENGTH' in locals():\n",
        "    print(f\"SEQUENCE_LENGTH: {SEQUENCE_LENGTH}\")\n",
        "else:\n",
        "    SEQUENCE_LENGTH = 36  # Set default if not defined\n",
        "    print(f\"Setting SEQUENCE_LENGTH to: {SEQUENCE_LENGTH}\")"
      ],
      "metadata": {
        "colab": {
          "base_uri": "https://localhost:8080/"
        },
        "id": "30X3u1ISdn0W",
        "outputId": "b3fd37b3-3f82-4074-d9d6-7865a4902217"
      },
      "execution_count": 14,
      "outputs": [
        {
          "output_type": "stream",
          "name": "stdout",
          "text": [
            "🔍 Checking available variables...\n",
            "Available variables: ['X_train_scaled', 'X_train_aligned', 'y_train']\n",
            "X_train_scaled shape: (30676, 45)\n",
            "y_train shape: (30676,)\n",
            "Setting SEQUENCE_LENGTH to: 36\n"
          ]
        }
      ]
    },
    {
      "cell_type": "code",
      "source": [
        "import numpy as np\n",
        "\n",
        "def create_sequences(data, target, sequence_length=24):\n",
        "    \"\"\"Create sequences for LSTM input\"\"\"\n",
        "    X, y = [], []\n",
        "\n",
        "    for i in range(sequence_length, len(data)):\n",
        "        X.append(data[i-sequence_length:i])\n",
        "        y.append(target[i])\n",
        "\n",
        "    return np.array(X), np.array(y)\n",
        "\n",
        "print(\"✅ create_sequences function defined\")"
      ],
      "metadata": {
        "colab": {
          "base_uri": "https://localhost:8080/"
        },
        "id": "ZMabjQpRdqRx",
        "outputId": "df9b332c-0f37-47f4-abd5-cc9b59082d39"
      },
      "execution_count": 15,
      "outputs": [
        {
          "output_type": "stream",
          "name": "stdout",
          "text": [
            "✅ create_sequences function defined\n"
          ]
        }
      ]
    },
    {
      "cell_type": "code",
      "source": [
        "print(\"🏗️ Creating time series sequences...\")\n",
        "\n",
        "# Make sure we have the required variables\n",
        "if 'X_train_scaled' in locals() and 'y_train' in locals():\n",
        "    X_seq, y_seq = create_sequences(X_train_scaled, y_train.values, SEQUENCE_LENGTH)\n",
        "\n",
        "    # Train/validation split\n",
        "    split_idx = int(0.85 * len(X_seq))\n",
        "    X_train_seq, X_val_seq = X_seq[:split_idx], X_seq[split_idx:]\n",
        "    y_train_seq, y_val_seq = y_seq[:split_idx], y_seq[split_idx:]\n",
        "\n",
        "    print(f\"✅ Sequences created successfully!\")\n",
        "    print(f\"📊 X_train_seq shape: {X_train_seq.shape}\")\n",
        "    print(f\"📊 y_train_seq shape: {y_train_seq.shape}\")\n",
        "    print(f\"📊 X_val_seq shape: {X_val_seq.shape}\")\n",
        "    print(f\"📊 y_val_seq shape: {y_val_seq.shape}\")\n",
        "else:\n",
        "    print(\"❌ Missing required variables: X_train_scaled or y_train\")\n",
        "    print(\"Please run your data preparation cells first!\")"
      ],
      "metadata": {
        "colab": {
          "base_uri": "https://localhost:8080/"
        },
        "id": "1wxRhyASdtoq",
        "outputId": "db3c6640-caf9-4785-ce96-c3e37606dec6"
      },
      "execution_count": 17,
      "outputs": [
        {
          "output_type": "stream",
          "name": "stdout",
          "text": [
            "🏗️ Creating time series sequences...\n",
            "✅ Sequences created successfully!\n",
            "📊 X_train_seq shape: (26044, 36, 45)\n",
            "📊 y_train_seq shape: (26044,)\n",
            "📊 X_val_seq shape: (4596, 36, 45)\n",
            "📊 y_val_seq shape: (4596,)\n"
          ]
        }
      ]
    },
    {
      "cell_type": "code",
      "source": [
        "# Now you can run your data check\n",
        "print(\"🔍 Checking data for issues...\")\n",
        "print(f\"X_train_seq - Min: {X_train_seq.min():.6f}, Max: {X_train_seq.max():.6f}\")\n",
        "print(f\"X_train_seq - Contains NaN: {np.isnan(X_train_seq).any()}\")\n",
        "print(f\"X_train_seq - Contains Inf: {np.isinf(X_train_seq).any()}\")\n",
        "\n",
        "print(f\"y_train_seq - Min: {y_train_seq.min():.6f}, Max: {y_train_seq.max():.6f}\")\n",
        "print(f\"y_train_seq - Contains NaN: {np.isnan(y_train_seq).any()}\")\n",
        "print(f\"y_train_seq - Contains Inf: {np.isinf(y_train_seq).any()}\")\n",
        "\n",
        "# Additional checks\n",
        "print(f\"\\n📊 Data statistics:\")\n",
        "print(f\"X_train_seq shape: {X_train_seq.shape}\")\n",
        "print(f\"X_train_seq dtype: {X_train_seq.dtype}\")\n",
        "print(f\"y_train_seq dtype: {y_train_seq.dtype}\")"
      ],
      "metadata": {
        "colab": {
          "base_uri": "https://localhost:8080/"
        },
        "id": "TK1TgmlWdx82",
        "outputId": "2d50a65c-9ec1-4197-c807-2cf03a74175d"
      },
      "execution_count": 18,
      "outputs": [
        {
          "output_type": "stream",
          "name": "stdout",
          "text": [
            "🔍 Checking data for issues...\n",
            "X_train_seq - Min: nan, Max: nan\n",
            "X_train_seq - Contains NaN: True\n",
            "X_train_seq - Contains Inf: False\n",
            "y_train_seq - Min: 0.000000, Max: 994.000000\n",
            "y_train_seq - Contains NaN: False\n",
            "y_train_seq - Contains Inf: False\n",
            "\n",
            "📊 Data statistics:\n",
            "X_train_seq shape: (26044, 36, 45)\n",
            "X_train_seq dtype: float64\n",
            "y_train_seq dtype: float64\n"
          ]
        }
      ]
    },
    {
      "cell_type": "code",
      "source": [
        "print(\"🔍 Checking data for issues...\")\n",
        "print(f\"X_train_seq - Min: {X_train_seq.min():.6f}, Max: {X_train_seq.max():.6f}\")\n",
        "print(f\"X_train_seq - Contains NaN: {np.isnan(X_train_seq).any()}\")\n",
        "print(f\"X_train_seq - Contains Inf: {np.isinf(X_train_seq).any()}\")\n",
        "\n",
        "print(f\"y_train_seq - Min: {y_train_seq.min():.6f}, Max: {y_train_seq.max():.6f}\")\n",
        "print(f\"y_train_seq - Contains NaN: {np.isnan(y_train_seq).any()}\")\n",
        "print(f\"y_train_seq - Contains Inf: {np.isinf(y_train_seq).any()}\")"
      ],
      "metadata": {
        "colab": {
          "base_uri": "https://localhost:8080/"
        },
        "id": "Y6hwoRBWFKu3",
        "outputId": "ce2f8d07-48a1-4bb7-de9b-4ee39b7a52dd"
      },
      "execution_count": 19,
      "outputs": [
        {
          "output_type": "stream",
          "name": "stdout",
          "text": [
            "🔍 Checking data for issues...\n",
            "X_train_seq - Min: nan, Max: nan\n",
            "X_train_seq - Contains NaN: True\n",
            "X_train_seq - Contains Inf: False\n",
            "y_train_seq - Min: 0.000000, Max: 994.000000\n",
            "y_train_seq - Contains NaN: False\n",
            "y_train_seq - Contains Inf: False\n"
          ]
        }
      ]
    },
    {
      "cell_type": "code",
      "source": [
        "print(X_train_seq.shape)\n",
        "# should be (n_samples, SEQUENCE_LENGTH, n_features)\n"
      ],
      "metadata": {
        "colab": {
          "base_uri": "https://localhost:8080/"
        },
        "id": "FS2sWBtzF9aM",
        "outputId": "35421aad-a61b-492a-bcae-75d0e4dcc789"
      },
      "execution_count": 20,
      "outputs": [
        {
          "output_type": "stream",
          "name": "stdout",
          "text": [
            "(26044, 36, 45)\n"
          ]
        }
      ]
    },
    {
      "cell_type": "markdown",
      "source": [
        "Training final model"
      ],
      "metadata": {
        "id": "t3BsLq5J7LhQ"
      }
    },
    {
      "cell_type": "code",
      "source": [
        "print(\"🔍 Checking input data dimensions...\")\n",
        "print(f\"X_train shape: {X_train.shape if 'X_train' in locals() else 'X_train not defined'}\")\n",
        "print(f\"X_train_seq shape: {X_train_seq.shape if 'X_train_seq' in locals() else 'X_train_seq not defined'}\")\n",
        "print(f\"Number of features expected by model: 45\")"
      ],
      "metadata": {
        "colab": {
          "base_uri": "https://localhost:8080/"
        },
        "id": "GWD-SiNlJLZF",
        "outputId": "4a0c7d3c-caba-4823-d75a-7e4c217fced0"
      },
      "execution_count": 21,
      "outputs": [
        {
          "output_type": "stream",
          "name": "stdout",
          "text": [
            "🔍 Checking input data dimensions...\n",
            "X_train shape: (30676, 1, 9)\n",
            "X_train_seq shape: (26044, 36, 45)\n",
            "Number of features expected by model: 45\n"
          ]
        }
      ]
    },
    {
      "cell_type": "code",
      "source": [
        "# Check if you have the right number of features\n",
        "print(\"📊 Feature dimension check:\")\n",
        "if 'X_train_aligned' in locals():\n",
        "    print(f\"X_train_aligned features: {X_train_aligned.shape[1]}\")\n",
        "if 'common_features' in locals():\n",
        "    print(f\"Common features count: {len(common_features)}\")"
      ],
      "metadata": {
        "colab": {
          "base_uri": "https://localhost:8080/"
        },
        "id": "Cl-JIEjvJQH8",
        "outputId": "4c59b558-eef0-46c3-8593-0fe97c3ba8f3"
      },
      "execution_count": 22,
      "outputs": [
        {
          "output_type": "stream",
          "name": "stdout",
          "text": [
            "📊 Feature dimension check:\n",
            "X_train_aligned features: 45\n",
            "Common features count: 45\n"
          ]
        }
      ]
    },
    {
      "cell_type": "code",
      "source": [
        "from tensorflow.keras.models import Sequential\n",
        "from tensorflow.keras.layers import LSTM, Dense, Dropout, Bidirectional, BatchNormalization, Attention\n",
        "from tensorflow.keras.optimizers import AdamW\n",
        "from tensorflow.keras.regularizers import l1_l2\n",
        "from tensorflow.keras.callbacks import EarlyStopping, ReduceLROnPlateau, ModelCheckpoint\n",
        "\n",
        "def create_advanced_model(input_shape):\n",
        "    \"\"\"Advanced model with attention mechanism\"\"\"\n",
        "    model = Sequential([\n",
        "        # First Bidirectional LSTM with more units\n",
        "        Bidirectional(LSTM(256, activation='tanh', return_sequences=True,\n",
        "                         dropout=0.2, recurrent_dropout=0.2),\n",
        "                    input_shape=input_shape),\n",
        "        BatchNormalization(),\n",
        "\n",
        "        # Second Bidirectional LSTM\n",
        "        Bidirectional(LSTM(128, activation='tanh', return_sequences=True,\n",
        "                         dropout=0.2, recurrent_dropout=0.2)),\n",
        "        BatchNormalization(),\n",
        "\n",
        "        # Third LSTM layer\n",
        "        LSTM(64, activation='tanh', return_sequences=True, dropout=0.2),\n",
        "        BatchNormalization(),\n",
        "\n",
        "        # Attention layer (custom implementation)\n",
        "        # You might need to implement attention or use transformer layers\n",
        "        LSTM(32, activation='tanh', dropout=0.1),\n",
        "        BatchNormalization(),\n",
        "        Dropout(0.3),\n",
        "\n",
        "        # Dense layers with advanced activations\n",
        "        Dense(128, activation='swish', kernel_regularizer=l1_l2(l1=1e-5, l2=1e-4)),\n",
        "        BatchNormalization(),\n",
        "        Dropout(0.2),\n",
        "\n",
        "        Dense(64, activation='swish'),\n",
        "        Dense(32, activation='relu'),\n",
        "        Dense(1, kernel_initializer='he_normal')\n",
        "    ])\n",
        "\n",
        "    return model\n",
        "\n",
        "# Compile with advanced optimizer\n",
        "model = create_advanced_model((SEQUENCE_LENGTH, X_train_seq.shape[2]))\n",
        "model.compile(\n",
        "    optimizer=AdamW(learning_rate=0.0005, weight_decay=1e-4),\n",
        "    loss='huber',  # Better for outliers than MSE\n",
        "    metrics=['mae', 'mse']\n",
        ")"
      ],
      "metadata": {
        "id": "a_DKTsVhZzvp"
      },
      "execution_count": 23,
      "outputs": []
    },
    {
      "cell_type": "code",
      "source": [
        "# Use the correct training data\n",
        "early_stopping = EarlyStopping(\n",
        "    monitor='val_loss',\n",
        "    patience=15,\n",
        "    restore_best_weights=True,\n",
        "    verbose=1\n",
        ")\n",
        "\n",
        "reduce_lr = ReduceLROnPlateau(\n",
        "    monitor='val_loss',\n",
        "    factor=0.5,\n",
        "    patience=8,\n",
        "    verbose=1\n",
        ")\n",
        "callbacks = [\n",
        "    EarlyStopping(patience=20, restore_best_weights=True),\n",
        "    ReduceLROnPlateau(factor=0.5, patience=10)\n",
        "]\n",
        "\n",
        "\n",
        "print(\"🚀 Training model with correct dimensions...\")\n",
        "history = model.fit(\n",
        "    X_train_seq,\n",
        "    y_train_seq,\n",
        "    validation_data=(X_val_seq, y_val_seq),\n",
        "    epochs=20,\n",
        "    batch_size=64,\n",
        "    callbacks=[early_stopping, reduce_lr],\n",
        "    verbose=1\n",
        ")"
      ],
      "metadata": {
        "colab": {
          "base_uri": "https://localhost:8080/"
        },
        "id": "GEhrdoikJwac",
        "outputId": "bff52961-aedc-46ee-c5f6-8f900d873eb5"
      },
      "execution_count": 25,
      "outputs": [
        {
          "output_type": "stream",
          "name": "stdout",
          "text": [
            "🚀 Training model with correct dimensions...\n",
            "Epoch 1/20\n",
            "\u001b[1m407/407\u001b[0m \u001b[32m━━━━━━━━━━━━━━━━━━━━\u001b[0m\u001b[37m\u001b[0m \u001b[1m428s\u001b[0m 1s/step - loss: nan - mae: nan - mse: nan - val_loss: nan - val_mae: nan - val_mse: nan - learning_rate: 5.0000e-04\n",
            "Epoch 2/20\n",
            "\u001b[1m407/407\u001b[0m \u001b[32m━━━━━━━━━━━━━━━━━━━━\u001b[0m\u001b[37m\u001b[0m \u001b[1m421s\u001b[0m 1s/step - loss: nan - mae: nan - mse: nan - val_loss: nan - val_mae: nan - val_mse: nan - learning_rate: 5.0000e-04\n",
            "Epoch 3/20\n",
            "\u001b[1m407/407\u001b[0m \u001b[32m━━━━━━━━━━━━━━━━━━━━\u001b[0m\u001b[37m\u001b[0m \u001b[1m440s\u001b[0m 1s/step - loss: nan - mae: nan - mse: nan - val_loss: nan - val_mae: nan - val_mse: nan - learning_rate: 5.0000e-04\n",
            "Epoch 4/20\n",
            "\u001b[1m407/407\u001b[0m \u001b[32m━━━━━━━━━━━━━━━━━━━━\u001b[0m\u001b[37m\u001b[0m \u001b[1m444s\u001b[0m 1s/step - loss: nan - mae: nan - mse: nan - val_loss: nan - val_mae: nan - val_mse: nan - learning_rate: 5.0000e-04\n",
            "Epoch 5/20\n",
            "\u001b[1m407/407\u001b[0m \u001b[32m━━━━━━━━━━━━━━━━━━━━\u001b[0m\u001b[37m\u001b[0m \u001b[1m419s\u001b[0m 1s/step - loss: nan - mae: nan - mse: nan - val_loss: nan - val_mae: nan - val_mse: nan - learning_rate: 5.0000e-04\n",
            "Epoch 6/20\n",
            "\u001b[1m407/407\u001b[0m \u001b[32m━━━━━━━━━━━━━━━━━━━━\u001b[0m\u001b[37m\u001b[0m \u001b[1m446s\u001b[0m 1s/step - loss: nan - mae: nan - mse: nan - val_loss: nan - val_mae: nan - val_mse: nan - learning_rate: 5.0000e-04\n",
            "Epoch 7/20\n",
            "\u001b[1m407/407\u001b[0m \u001b[32m━━━━━━━━━━━━━━━━━━━━\u001b[0m\u001b[37m\u001b[0m \u001b[1m441s\u001b[0m 1s/step - loss: nan - mae: nan - mse: nan - val_loss: nan - val_mae: nan - val_mse: nan - learning_rate: 5.0000e-04\n",
            "Epoch 8/20\n",
            "\u001b[1m407/407\u001b[0m \u001b[32m━━━━━━━━━━━━━━━━━━━━\u001b[0m\u001b[37m\u001b[0m \u001b[1m0s\u001b[0m 990ms/step - loss: nan - mae: nan - mse: nan\n",
            "Epoch 8: ReduceLROnPlateau reducing learning rate to 0.0002500000118743628.\n",
            "\u001b[1m407/407\u001b[0m \u001b[32m━━━━━━━━━━━━━━━━━━━━\u001b[0m\u001b[37m\u001b[0m \u001b[1m443s\u001b[0m 1s/step - loss: nan - mae: nan - mse: nan - val_loss: nan - val_mae: nan - val_mse: nan - learning_rate: 5.0000e-04\n",
            "Epoch 9/20\n",
            "\u001b[1m407/407\u001b[0m \u001b[32m━━━━━━━━━━━━━━━━━━━━\u001b[0m\u001b[37m\u001b[0m \u001b[1m432s\u001b[0m 1s/step - loss: nan - mae: nan - mse: nan - val_loss: nan - val_mae: nan - val_mse: nan - learning_rate: 2.5000e-04\n",
            "Epoch 10/20\n",
            "\u001b[1m407/407\u001b[0m \u001b[32m━━━━━━━━━━━━━━━━━━━━\u001b[0m\u001b[37m\u001b[0m \u001b[1m448s\u001b[0m 1s/step - loss: nan - mae: nan - mse: nan - val_loss: nan - val_mae: nan - val_mse: nan - learning_rate: 2.5000e-04\n",
            "Epoch 11/20\n",
            "\u001b[1m407/407\u001b[0m \u001b[32m━━━━━━━━━━━━━━━━━━━━\u001b[0m\u001b[37m\u001b[0m \u001b[1m415s\u001b[0m 1s/step - loss: nan - mae: nan - mse: nan - val_loss: nan - val_mae: nan - val_mse: nan - learning_rate: 2.5000e-04\n",
            "Epoch 12/20\n",
            "\u001b[1m407/407\u001b[0m \u001b[32m━━━━━━━━━━━━━━━━━━━━\u001b[0m\u001b[37m\u001b[0m \u001b[1m414s\u001b[0m 1s/step - loss: nan - mae: nan - mse: nan - val_loss: nan - val_mae: nan - val_mse: nan - learning_rate: 2.5000e-04\n",
            "Epoch 13/20\n",
            "\u001b[1m407/407\u001b[0m \u001b[32m━━━━━━━━━━━━━━━━━━━━\u001b[0m\u001b[37m\u001b[0m \u001b[1m419s\u001b[0m 1s/step - loss: nan - mae: nan - mse: nan - val_loss: nan - val_mae: nan - val_mse: nan - learning_rate: 2.5000e-04\n",
            "Epoch 14/20\n",
            "\u001b[1m407/407\u001b[0m \u001b[32m━━━━━━━━━━━━━━━━━━━━\u001b[0m\u001b[37m\u001b[0m \u001b[1m437s\u001b[0m 1s/step - loss: nan - mae: nan - mse: nan - val_loss: nan - val_mae: nan - val_mse: nan - learning_rate: 2.5000e-04\n",
            "Epoch 15/20\n",
            "\u001b[1m407/407\u001b[0m \u001b[32m━━━━━━━━━━━━━━━━━━━━\u001b[0m\u001b[37m\u001b[0m \u001b[1m418s\u001b[0m 1s/step - loss: nan - mae: nan - mse: nan - val_loss: nan - val_mae: nan - val_mse: nan - learning_rate: 2.5000e-04\n",
            "Epoch 16/20\n",
            "\u001b[1m407/407\u001b[0m \u001b[32m━━━━━━━━━━━━━━━━━━━━\u001b[0m\u001b[37m\u001b[0m \u001b[1m0s\u001b[0m 979ms/step - loss: nan - mae: nan - mse: nan\n",
            "Epoch 16: ReduceLROnPlateau reducing learning rate to 0.0001250000059371814.\n",
            "\u001b[1m407/407\u001b[0m \u001b[32m━━━━━━━━━━━━━━━━━━━━\u001b[0m\u001b[37m\u001b[0m \u001b[1m443s\u001b[0m 1s/step - loss: nan - mae: nan - mse: nan - val_loss: nan - val_mae: nan - val_mse: nan - learning_rate: 2.5000e-04\n",
            "Epoch 16: early stopping\n",
            "Restoring model weights from the end of the best epoch: 1.\n"
          ]
        }
      ]
    },
    {
      "cell_type": "code",
      "source": [
        "# Run this to see what's happening\n",
        "print(\"🔍 Diagnostic check:\")\n",
        "print(f\"X_train_scaled shape: {X_train_scaled.shape}\")\n",
        "print(f\"y_train shape: {y_train.shape}\")\n",
        "print(f\"SEQUENCE_LENGTH: {SEQUENCE_LENGTH}\")\n",
        "\n",
        "# Check if dimensions match\n",
        "expected_features = 45  # From your common_features\n",
        "if X_train_scaled.shape[1] != expected_features:\n",
        "    print(f\"❌ ERROR: Expected {expected_features} features, got {X_train_scaled.shape[1]}\")\n",
        "    print(\"   Re-run feature alignment and scaling cells!\")\n",
        "else:\n",
        "    print(\"✅ Feature dimensions match!\")"
      ],
      "metadata": {
        "colab": {
          "base_uri": "https://localhost:8080/"
        },
        "id": "joXvmFZhJ5J3",
        "outputId": "e64b2e40-1313-42a4-f144-1c911f0e381b"
      },
      "execution_count": 26,
      "outputs": [
        {
          "output_type": "stream",
          "name": "stdout",
          "text": [
            "🔍 Diagnostic check:\n",
            "X_train_scaled shape: (30676, 45)\n",
            "y_train shape: (30676,)\n",
            "SEQUENCE_LENGTH: 36\n",
            "✅ Feature dimensions match!\n"
          ]
        }
      ]
    },
    {
      "cell_type": "code",
      "source": [
        "print(\"📊 Calculating training loss with correct data format...\")\n",
        "train_predictions = model.predict(X_train_seq, verbose=0)\n",
        "train_loss = np.mean((y_train_seq - train_predictions.flatten())**2)\n",
        "\n",
        "print(f\"✅ Training MSE: {train_loss:.4f}\")\n",
        "\n",
        "\n",
        "val_predictions = model.predict(X_val_seq, verbose=0)\n",
        "val_loss = np.mean((y_val_seq - val_predictions.flatten())**2)\n",
        "print(f\"✅ Validation MSE: {val_loss:.4f}\")\n",
        "\n",
        "# Calculate RMSE\n",
        "train_rmse = np.sqrt(train_loss)\n",
        "val_rmse = np.sqrt(val_loss)\n",
        "print(f\"📈 Training RMSE: {train_rmse:.2f}\")\n",
        "print(f\"📈 Validation RMSE: {val_rmse:.2f}\")"
      ],
      "metadata": {
        "colab": {
          "base_uri": "https://localhost:8080/"
        },
        "id": "0EWW_szVYra-",
        "outputId": "27fe90bd-aa70-4955-fa62-a59ef030adc4"
      },
      "execution_count": 27,
      "outputs": [
        {
          "output_type": "stream",
          "name": "stdout",
          "text": [
            "📊 Calculating training loss with correct data format...\n",
            "✅ Training MSE: nan\n",
            "✅ Validation MSE: nan\n",
            "📈 Training RMSE: nan\n",
            "📈 Validation RMSE: nan\n"
          ]
        }
      ]
    },
    {
      "cell_type": "code",
      "execution_count": 28,
      "metadata": {
        "colab": {
          "base_uri": "https://localhost:8080/",
          "height": 458
        },
        "id": "NKxlO7SmxFpU",
        "outputId": "cd56ad5d-ee58-4eb7-eece-9764181d06bf"
      },
      "outputs": [
        {
          "output_type": "display_data",
          "data": {
            "text/plain": [
              "<Figure size 1000x600 with 1 Axes>"
            ],
            "image/png": "[encoded data removed]"
          },
          "metadata": {}
        },
        {
          "output_type": "stream",
          "name": "stdout",
          "text": [
            "📊 Final Training Loss (MSE): nan\n",
            "📊 Final Validation Loss (MSE): nan\n",
            "📈 Generalization gap: nan\n",
            "📊 Final Training RMSE: nan\n",
            "📊 Final Validation RMSE: nan\n"
          ]
        }
      ],
      "source": [
        "# Plot training loss\n",
        "plt.figure(figsize=(10, 6))\n",
        "\n",
        "# Plot training loss from history (per epoch)\n",
        "plt.plot(history.history['loss'], label='Training Loss (per epoch)', color='blue', linewidth=2)\n",
        "\n",
        "# Plot validation loss if available\n",
        "if 'val_loss' in history.history:\n",
        "    plt.plot(history.history['val_loss'], label='Validation Loss (per epoch)', color='red', linewidth=2)\n",
        "\n",
        "# Add final training loss line\n",
        "plt.axhline(y=train_loss, color='green', linestyle='--', linewidth=2, label=f'Final Training Loss: {train_loss:.2f}')\n",
        "\n",
        "plt.title('Model Training Progress', fontsize=14)\n",
        "plt.xlabel('Epochs', fontsize=12)\n",
        "plt.ylabel('Loss (MSE)', fontsize=12)\n",
        "plt.legend()\n",
        "plt.grid(True, alpha=0.3)\n",
        "plt.tight_layout()\n",
        "plt.show()\n",
        "\n",
        "print(f\"📊 Final Training Loss (MSE): {train_loss:.4f}\")\n",
        "\n",
        "# Also show other metrics if available\n",
        "if 'val_loss' in history.history:\n",
        "    final_val_loss = history.history['val_loss'][-1]\n",
        "    print(f\"📊 Final Validation Loss (MSE): {final_val_loss:.4f}\")\n",
        "    print(f\"📈 Generalization gap: {abs(train_loss - final_val_loss):.4f}\")\n",
        "\n",
        "# Calculate and display RMSE\n",
        "train_rmse = np.sqrt(train_loss)\n",
        "print(f\"📊 Final Training RMSE: {train_rmse:.2f}\")\n",
        "\n",
        "if 'val_loss' in history.history:\n",
        "    val_rmse = np.sqrt(final_val_loss)\n",
        "    print(f\"📊 Final Validation RMSE: {val_rmse:.2f}\")"
      ]
    },
    {
      "cell_type": "code",
      "source": [
        "# Safe calculation with robust NaN handling\n",
        "def safe_mse(y_true, y_pred):\n",
        "    \"\"\"Calculate MSE safely, handling NaN and Inf values\"\"\"\n",
        "    # Convert to numpy arrays\n",
        "    y_true = np.array(y_true)\n",
        "    y_pred = np.array(y_pred)\n",
        "\n",
        "    # Remove NaN and Inf values\n",
        "    mask = ~(np.isnan(y_true) | np.isnan(y_pred) | np.isinf(y_true) | np.isinf(y_pred))\n",
        "\n",
        "    if np.sum(mask) == 0:\n",
        "        print(\"⚠️ Warning: No valid data points after filtering NaN/Inf\")\n",
        "        return np.nan\n",
        "\n",
        "    y_true_clean = y_true[mask]\n",
        "    y_pred_clean = y_pred[mask]\n",
        "\n",
        "    print(f\"Using {np.sum(mask)}/{len(y_true)} valid data points\")\n",
        "\n",
        "    return mean_squared_error(y_true_clean, y_pred_clean)\n",
        "\n",
        "# Get predictions\n",
        "train_preds = model.predict(X_train_seq, verbose=0).flatten()\n",
        "\n",
        "# Calculate loss safely\n",
        "actual_train_loss = safe_mse(y_train_seq, train_preds)\n",
        "\n",
        "if not np.isnan(actual_train_loss):\n",
        "    print(f\"✅ Precise Training Loss (MSE): {actual_train_loss:.4f}\")\n",
        "    print(f\"✅ Precise Training RMSE: {np.sqrt(actual_train_loss):.2f}\")\n",
        "else:\n",
        "    print(\"❌ Could not calculate valid loss due to too many NaN/Inf values\")"
      ],
      "metadata": {
        "colab": {
          "base_uri": "https://localhost:8080/"
        },
        "id": "YUV5StvfUdea",
        "outputId": "7db1c6d3-25cd-4cae-ba4a-646209250602"
      },
      "execution_count": 29,
      "outputs": [
        {
          "output_type": "stream",
          "name": "stdout",
          "text": [
            "⚠️ Warning: No valid data points after filtering NaN/Inf\n",
            "❌ Could not calculate valid loss due to too many NaN/Inf values\n"
          ]
        }
      ]
    },
    {
      "cell_type": "code",
      "source": [
        "# Plot training loss (with safe values)\n",
        "plt.figure(figsize=(10, 6))\n",
        "\n",
        "# Plot training loss from history\n",
        "plt.plot(history.history['loss'], label='Training Loss (per epoch)', color='blue', linewidth=2)\n",
        "\n",
        "# Plot validation loss if available\n",
        "if 'val_loss' in history.history:\n",
        "    plt.plot(history.history['val_loss'], label='Validation Loss (per epoch)', color='red', linewidth=2)\n",
        "\n",
        "# Add final training loss line (only if valid)\n",
        "if not np.isnan(actual_train_loss):\n",
        "    plt.axhline(y=actual_train_loss, color='green', linestyle='--', linewidth=2,\n",
        "               label=f'Final Training Loss: {actual_train_loss:.2f}')\n",
        "\n",
        "plt.title('Model Training Progress', fontsize=14)\n",
        "plt.xlabel('Epochs', fontsize=12)\n",
        "plt.ylabel('Loss (MSE)', fontsize=12)\n",
        "plt.legend()\n",
        "plt.grid(True, alpha=0.3)\n",
        "plt.tight_layout()\n",
        "plt.show()\n",
        "\n",
        "# Display final metrics\n",
        "if not np.isnan(actual_train_loss):\n",
        "    print(f\"📊 Final Training Loss (MSE): {actual_train_loss:.4f}\")\n",
        "    print(f\"📊 Final Training RMSE: {np.sqrt(actual_train_loss):.2f}\")"
      ],
      "metadata": {
        "colab": {
          "base_uri": "https://localhost:8080/",
          "height": 371
        },
        "id": "RJJ2mY6LWT-2",
        "outputId": "a3243b2b-9bef-40d5-b18d-ddbb4fa48f4f"
      },
      "execution_count": 30,
      "outputs": [
        {
          "output_type": "display_data",
          "data": {
            "text/plain": [
              "<Figure size 1000x600 with 1 Axes>"
            ],
            "image/png": "[encoded data removed]"
          },
          "metadata": {}
        }
      ]
    },
    {
      "cell_type": "code",
      "source": [
        "# Prepare the test data CORRECTLY - use the same processing as training\n",
        "print(\"🔧 Preparing test data with correct format...\")\n",
        "\n",
        "# Use the aligned and scaled test data that matches your training format\n",
        "# X_test_scaled should have shape (13148, 45) - same as X_train_scaled\n",
        "print(f\"X_test_scaled shape: {X_test_scaled.shape}\")\n",
        "\n",
        "# Create test sequences using the SAME method as training\n",
        "test_sequences = []\n",
        "for i in range(len(X_test_scaled)):\n",
        "    if i < SEQUENCE_LENGTH:\n",
        "        needed_from_train = SEQUENCE_LENGTH - (i + 1)\n",
        "        if needed_from_train > 0:\n",
        "            sequence = np.vstack([X_train_scaled[-needed_from_train:], X_test_scaled[:i+1]])\n",
        "        else:\n",
        "            sequence = X_test_scaled[:SEQUENCE_LENGTH]\n",
        "    else:\n",
        "        sequence = X_test_scaled[i-SEQUENCE_LENGTH+1:i+1]\n",
        "\n",
        "    if sequence.shape[0] != SEQUENCE_LENGTH:\n",
        "        if sequence.shape[0] < SEQUENCE_LENGTH:\n",
        "            padding_needed = SEQUENCE_LENGTH - sequence.shape[0]\n",
        "            padding = np.repeat(sequence[0:1], padding_needed, axis=0)\n",
        "            sequence = np.vstack([padding, sequence])\n",
        "        else:\n",
        "            sequence = sequence[-SEQUENCE_LENGTH:]\n",
        "\n",
        "    test_sequences.append(sequence)\n",
        "\n",
        "X_test_seq = np.array(test_sequences)\n",
        "print(f\"📊 Test sequences shape: {X_test_seq.shape}\")  # Should be (13148, 36, 45)\n",
        "\n",
        "# Now make predictions with the CORRECT data format\n",
        "print(\"🔮 Making predictions with correct data format...\")\n",
        "predictions = model.predict(X_test_seq, verbose=0)\n",
        "\n",
        "# Ensure predictions do not contain NaN values and are non-negative\n",
        "predictions = np.nan_to_num(predictions)\n",
        "predictions = np.maximum(predictions.flatten(), 0)  # Ensure non-negative\n",
        "\n",
        "# Convert predictions to integers\n",
        "predictions = np.round(predictions).astype(int)\n",
        "\n",
        "print(f\"✅ Predictions shape: {predictions.shape}\")\n",
        "print(f\"📊 Predictions range: {predictions.min()} to {predictions.max()}\")"
      ],
      "metadata": {
        "colab": {
          "base_uri": "https://localhost:8080/"
        },
        "id": "xyJDPpUmZHOM",
        "outputId": "a33b575f-8071-4ca1-997a-5341c0371dcf"
      },
      "execution_count": 31,
      "outputs": [
        {
          "output_type": "stream",
          "name": "stdout",
          "text": [
            "🔧 Preparing test data with correct format...\n",
            "X_test_scaled shape: (13148, 45)\n",
            "📊 Test sequences shape: (13148, 36, 45)\n",
            "🔮 Making predictions with correct data format...\n",
            "✅ Predictions shape: (13148,)\n",
            "📊 Predictions range: 0 to 0\n"
          ]
        }
      ]
    },
    {
      "cell_type": "code",
      "execution_count": 32,
      "metadata": {
        "colab": {
          "base_uri": "https://localhost:8080/",
          "height": 17
        },
        "id": "Nrw_e7OVwe6R",
        "outputId": "578f67eb-397a-4076-e63e-964542c88f20"
      },
      "outputs": [
        {
          "output_type": "display_data",
          "data": {
            "text/plain": [
              "<IPython.core.display.Javascript object>"
            ],
            "application/javascript": [
              "\n",
              "    async function download(id, filename, size) {\n",
              "      if (!google.colab.kernel.accessAllowed) {\n",
              "        return;\n",
              "      }\n",
              "      const div = document.createElement('div');\n",
              "      const label = document.createElement('label');\n",
              "      label.textContent = `Downloading \"${filename}\": `;\n",
              "      div.appendChild(label);\n",
              "      const progress = document.createElement('progress');\n",
              "      progress.max = size;\n",
              "      div.appendChild(progress);\n",
              "      document.body.appendChild(div);\n",
              "\n",
              "      const buffers = [];\n",
              "      let downloaded = 0;\n",
              "\n",
              "      const channel = await google.colab.kernel.comms.open(id);\n",
              "      // Send a message to notify the kernel that we're ready.\n",
              "      channel.send({})\n",
              "\n",
              "      for await (const message of channel.messages) {\n",
              "        // Send a message to notify the kernel that we're ready.\n",
              "        channel.send({})\n",
              "        if (message.buffers) {\n",
              "          for (const buffer of message.buffers) {\n",
              "            buffers.push(buffer);\n",
              "            downloaded += buffer.byteLength;\n",
              "            progress.value = downloaded;\n",
              "          }\n",
              "        }\n",
              "      }\n",
              "      const blob = new Blob(buffers, {type: 'application/binary'});\n",
              "      const a = document.createElement('a');\n",
              "      a.href = window.URL.createObjectURL(blob);\n",
              "      a.download = filename;\n",
              "      div.appendChild(a);\n",
              "      a.click();\n",
              "      div.remove();\n",
              "    }\n",
              "  "
            ]
          },
          "metadata": {}
        },
        {
          "output_type": "display_data",
          "data": {
            "text/plain": [
              "<IPython.core.display.Javascript object>"
            ],
            "application/javascript": [
              "download(\"download_0971fe7d-516e-431b-b9da-d019c568e7de\", \"sample_submission.csv\", 283793)"
            ]
          },
          "metadata": {}
        }
      ],
      "source": [
        "# Prepare the submission file\n",
        "# Convert 'row ID' index to string and remove leading zeros for single-digit hours\n",
        "submission = pd.DataFrame({\n",
        "    'row ID': pd.to_datetime(test.index).strftime('%Y-%m-%d %-H:%M:%S'),  # Remove leading zeros for hours\n",
        "    'pm2.5': predictions.flatten()\n",
        "})\n",
        "\n",
        "# Sort the submission by 'row ID' to match the solution file exactly\n",
        "submission = submission.sort_values(by='row ID')\n",
        "\n",
        "# Save the file in CSV format for submission on Kaggle\n",
        "submission.to_csv('/sample_submission.csv', index=False)\n",
        "\n",
        "from google.colab import files\n",
        "files.download('/sample_submission.csv')"
      ]
    }
  ],
  "metadata": {
    "colab": {
      "provenance": [],
      "collapsed_sections": [
        "iTsEYdtov6tp",
        "cRse3uqRrft5",
        "ABAqt0Jztd5s",
        "YKndkdRuty1C"
      ],
      "include_colab_link": true
    },
    "kernelspec": {
      "display_name": "Python 3",
      "name": "python3"
    },
    "language_info": {
      "codemirror_mode": {
        "name": "ipython",
        "version": 3
      },
      "file_extension": ".py",
      "mimetype": "text/x-python",
      "name": "python",
      "nbconvert_exporter": "python",
      "pygments_lexer": "ipython3",
      "version": "3.12.4"
    }
  },
  "nbformat": 4,
  "nbformat_minor": 0
}